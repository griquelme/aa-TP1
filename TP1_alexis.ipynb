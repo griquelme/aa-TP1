{
 "cells": [
  {
   "cell_type": "markdown",
   "metadata": {},
   "source": [
    "# Trabajo Práctico 1 \n",
    "### Clasificación sobre datos simulados. \n",
    "\n",
    "## Introducción\n",
    "Para este trabajo, hemos creado una función generadora de minions. Sobre cada minion, hemos medido 200 características que representan habilidades que poseen en distintas tareas (relacionadas al Mal).  \n",
    "\n",
    "El doctor Nefario ha ideado una fórmula para determinar si un minion es o no apto para concretar su plan para conquistar el mundo. De esta manera ha etiquetado más de 500 minions. Lamentablemente, ha perdido dicha fórmula y necesita seguir decidiendo si nuevos minions son o no aptos para su macabro plan.\n",
    "\n",
    "Es por esto que nuestro objetivo será construir clasificadores que estimen lo mejor posible la probabilidad de que nuevos minions sean o no aptos para concretar el plan de conquista y así facilitarle las cosas al doctor Nefario.\n",
    "\n",
    "Por otra parte, ya que el doctor Nefario tuvo problemas con equipos que sobreestiman sus resultados, decidió guardarse varias etiquetas extra que no compartirá con nadie, y que luego utilizará para elegir al mejor equipo, al cual contratará para (de una vez por todas) conquistar el mundo. \n",
    "\n",
    "\n",
    "En concreto:\n",
    "\n",
    "Tendrán disponible una matriz de datos $X$ de $500$ filas en donde cada fila $x^{(i)}$ representa un vector de $200$ características de cada instancia. Es decir, $\\textbf{x}^{(i)} = x_1^{(i)}, \\dots, x_{200}^{(i)}$ con $i$ entre $1$ y $500$. Además, tendrán y, un vector de $500$ posiciones con dos posibles valores: $True$ y $False$. \n",
    "\n",
    "Por otra parte, tendrán disponibles más instancias de evaluación $X_{competencia}$ sin las respectivas etiquetas que utilizaremos para evaluar sus resultados. \n",
    "\n"
   ]
  },
  {
   "cell_type": "code",
   "execution_count": 1,
   "metadata": {},
   "outputs": [],
   "source": [
    "# PREAMBULOS\n",
    "%matplotlib inline\n",
    "\n",
    "SEED = 1234\n",
    "\n",
    "import warnings\n",
    "warnings.simplefilter(action='ignore', category=FutureWarning)\n",
    "from IPython.display import display, HTML\n",
    "from time import time\n",
    "\n",
    "import numpy as np\n",
    "np.set_printoptions(precision=4)\n",
    "np.random.seed(SEED)\n",
    "\n",
    "import pandas as  pd\n",
    "pd.set_option('display.max_rows', 10)\n",
    "pd.set_option('display.max_columns', 15)\n",
    "\n",
    "pd.set_option('precision', 4)\n",
    "\n",
    "import matplotlib.pyplot as plt\n",
    "\n",
    "import seaborn as sns\n",
    "\n",
    "import sklearn.ensemble\n",
    "import sklearn.naive_bayes\n",
    "import sklearn.svm\n",
    "\n",
    "import sklearn.model_selection\n",
    "from scipy.stats import randint as sp_randint"
   ]
  },
  {
   "cell_type": "code",
   "execution_count": 2,
   "metadata": {
    "scrolled": true
   },
   "outputs": [],
   "source": [
    "# Carga de datos\n",
    "X = pd.read_csv(\"X.csv\", index_col=\"index\")\n",
    "y = pd.read_csv(\"y.csv\", index_col=\"index\", dtype=int)  # Cargamos los valores booleanos (True y False)\n",
    "                                                        # como números (1 y 0) para facilitar el manejo luego. \n",
    "\n",
    "#display(X)\n",
    "#display(y)\n",
    "\n",
    "#Datos de competencia\n",
    "#X_competencia = pd.read_csv(\"X_competencia.csv\", index_col=\"index\")\n",
    "#y_competencia_ejemplo = pd.read_csv(\"y_competencia_ejemplo.csv\", index_col=\"index\")\n",
    "\n",
    "# Descomentar si quieren ver los datos para la competencia:\n",
    "# display(X_competencia) \n",
    "# display(y_competencia_ejemplo)"
   ]
  },
  {
   "cell_type": "markdown",
   "metadata": {},
   "source": [
    "## Ejercicio 1\n",
    "\n",
    "### Separación de datos\n",
    "\n",
    "Contarán con una cantidad limitada de datos, por lo cual es importante tomar una buena decisión en el momento de empezar a utilizarlos. En este punto pedimos que evalúen cómo separar sus datos para desarrollo y para evaluación tomando en cuenta la competencia. "
   ]
  },
  {
   "cell_type": "code",
   "execution_count": 3,
   "metadata": {},
   "outputs": [
    {
     "name": "stdout",
     "output_type": "stream",
     "text": [
      "Se seleccionaron 450 instancias para desarrollo y 50 instancias para evaluación\n",
      "\n",
      "Distribución original\n"
     ]
    },
    {
     "data": {
      "image/png": "[encoded data removed]",
      "text/plain": [
       "<Figure size 360x216 with 1 Axes>"
      ]
     },
     "metadata": {
      "needs_background": "light"
     },
     "output_type": "display_data"
    },
    {
     "name": "stdout",
     "output_type": "stream",
     "text": [
      "Distribución de los datos de entrenamiento\n"
     ]
    },
    {
     "data": {
      "image/png": "[encoded data removed]",
      "text/plain": [
       "<Figure size 360x216 with 1 Axes>"
      ]
     },
     "metadata": {
      "needs_background": "light"
     },
     "output_type": "display_data"
    }
   ],
   "source": [
    "# EJERCICIO 1. \n",
    "\n",
    "porcentaje_eval = 0.1\n",
    "X_dev, X_eval, y_dev, y_eval = sklearn.model_selection.train_test_split(X, y, test_size=porcentaje_eval)\n",
    "\n",
    "print(\"Se seleccionaron {} instancias para desarrollo y {} instancias para evaluación\".format(len(X_dev), len(X_eval)))\n",
    "print(\"\")\n",
    "\n",
    "print(\"Distribución original\")\n",
    "plt.figure(figsize=(5, 3))\n",
    "plt.hist(np.array(y))\n",
    "plt.show()\n",
    "\n",
    "print(\"Distribución de los datos de entrenamiento\")\n",
    "plt.figure(figsize=(5, 3))\n",
    "plt.hist(np.array(y_dev)) \n",
    "plt.show()\n",
    "\n"
   ]
  },
  {
   "cell_type": "markdown",
   "metadata": {},
   "source": [
    "## Ejercicio 2\n",
    "\n",
    "### Construcción de modelos\n",
    "\n",
    "Para este punto, la tarea consiste en construir y evaluar modelos de tipo árbol de decisión, de manera de obtener una estimación realista de la performance de los mismos. \n",
    "\n",
    "1. Entrenar un árbol de decisión con altura máxima 3 y el resto de los hiperparámetros en default. \n",
    "2. Estimar la performance del modelo utilizando K-fold cross validation con K = 5, con las métricas “Accuracy” y “ROC AUC”. Para ello, se pide medir la performance en cada partición tanto sobre el fold de validación como sobre los folds de entrenamiento. Luego, completar la primera tabla.\n",
    "3. Entrenar árboles de decisión para cada una de las siguientes combinaciones y completar la segunda tabla.\n",
    "\n",
    "----\n",
    "\n",
    "**EJERCICIO EXTRA: Usar la implementación de árboles de decisión que realizaron para la guía de ejercicios de la materia. Adaptarla para que cumpla con la interfaz requerida por sklearn, asegurarse de que funcione con variables continuas y reproducir las tablas anteriores.   **\n",
    "\n",
    "----"
   ]
  },
  {
   "cell_type": "code",
   "execution_count": 4,
   "metadata": {},
   "outputs": [
    {
     "data": {
      "text/html": [
       "<h3> TABLA 1 </h3>"
      ],
      "text/plain": [
       "<IPython.core.display.HTML object>"
      ]
     },
     "metadata": {},
     "output_type": "display_data"
    },
    {
     "data": {
      "text/html": [
       "<div>\n",
       "<style scoped>\n",
       "    .dataframe tbody tr th:only-of-type {\n",
       "        vertical-align: middle;\n",
       "    }\n",
       "\n",
       "    .dataframe tbody tr th {\n",
       "        vertical-align: top;\n",
       "    }\n",
       "\n",
       "    .dataframe thead th {\n",
       "        text-align: right;\n",
       "    }\n",
       "</style>\n",
       "<table border=\"1\" class=\"dataframe\">\n",
       "  <thead>\n",
       "    <tr style=\"text-align: right;\">\n",
       "      <th></th>\n",
       "      <th>Accuracy (training)</th>\n",
       "      <th>Accuracy (validación)</th>\n",
       "      <th>AUC ROC (training)</th>\n",
       "      <th>AUC ROC (validación)</th>\n",
       "    </tr>\n",
       "    <tr>\n",
       "      <th>Permutación</th>\n",
       "      <th></th>\n",
       "      <th></th>\n",
       "      <th></th>\n",
       "      <th></th>\n",
       "    </tr>\n",
       "  </thead>\n",
       "  <tbody>\n",
       "    <tr>\n",
       "      <th>1</th>\n",
       "      <td>0.8167</td>\n",
       "      <td>0.6556</td>\n",
       "      <td>0.8737</td>\n",
       "      <td>0.6892</td>\n",
       "    </tr>\n",
       "    <tr>\n",
       "      <th>2</th>\n",
       "      <td>0.8278</td>\n",
       "      <td>0.6111</td>\n",
       "      <td>0.8878</td>\n",
       "      <td>0.6410</td>\n",
       "    </tr>\n",
       "    <tr>\n",
       "      <th>3</th>\n",
       "      <td>0.8222</td>\n",
       "      <td>0.7111</td>\n",
       "      <td>0.8739</td>\n",
       "      <td>0.7523</td>\n",
       "    </tr>\n",
       "    <tr>\n",
       "      <th>4</th>\n",
       "      <td>0.8361</td>\n",
       "      <td>0.7111</td>\n",
       "      <td>0.8543</td>\n",
       "      <td>0.7456</td>\n",
       "    </tr>\n",
       "    <tr>\n",
       "      <th>5</th>\n",
       "      <td>0.8056</td>\n",
       "      <td>0.7444</td>\n",
       "      <td>0.8822</td>\n",
       "      <td>0.7566</td>\n",
       "    </tr>\n",
       "  </tbody>\n",
       "</table>\n",
       "</div>"
      ],
      "text/plain": [
       "             Accuracy (training)  Accuracy (validación)  AUC ROC (training)  \\\n",
       "Permutación                                                                   \n",
       "1                         0.8167                 0.6556              0.8737   \n",
       "2                         0.8278                 0.6111              0.8878   \n",
       "3                         0.8222                 0.7111              0.8739   \n",
       "4                         0.8361                 0.7111              0.8543   \n",
       "5                         0.8056                 0.7444              0.8822   \n",
       "\n",
       "             AUC ROC (validación)  \n",
       "Permutación                        \n",
       "1                          0.6892  \n",
       "2                          0.6410  \n",
       "3                          0.7523  \n",
       "4                          0.7456  \n",
       "5                          0.7566  "
      ]
     },
     "metadata": {},
     "output_type": "display_data"
    },
    {
     "data": {
      "image/png": "[encoded data removed]",
      "text/plain": [
       "<Figure size 432x288 with 1 Axes>"
      ]
     },
     "metadata": {
      "needs_background": "light"
     },
     "output_type": "display_data"
    }
   ],
   "source": [
    "from sklearn import tree\n",
    "from sklearn.model_selection import KFold\n",
    "from sklearn.metrics import accuracy_score\n",
    "from sklearn.metrics import roc_auc_score\n",
    "\n",
    "# Numpy arrays con los datos de desarrollo (obligatorio para las funciones de folding)\n",
    "X_dev_np = np.array(X_dev)\n",
    "y_dev_np = np.array(y_dev).ravel()\n",
    "\n",
    "# INPUT: un clasificador que será entrenado y evaluado\n",
    "# OUTPUT: evaluaciones: 4 arrays, donde cada posición corresponde a los valores de un fold. \n",
    "# Los 4 arrays son: accuracy_train, accuracy_test, roc_score_train, roc_score_test\n",
    "def TrainAndEvaluate(clf, ResultProba=True, MaxDevSize=None):\n",
    "    # Inicializamos los arrays resultado:\n",
    "    accuracies_training = []\n",
    "    accuracies_validation = []\n",
    "    aucs_training = []\n",
    "    aucs_validation = []\n",
    "\n",
    "    # Particionamos el espacio en 5 folds:\n",
    "    cantidad_particiones = 5\n",
    "    kf = sklearn.model_selection.KFold(n_splits=cantidad_particiones, shuffle=False, random_state=None)\n",
    "\n",
    "    # Copiamos el espacio dev\n",
    "    if MaxDevSize == None:\n",
    "        temp_X_dev_np = X_dev_np\n",
    "        temp_y_dev_np = y_dev_np\n",
    "    else:\n",
    "        temp_X_dev_np = X_dev_np[0:min(MaxDevSize, len(X_dev_np))]\n",
    "        temp_y_dev_np = y_dev_np[0:min(MaxDevSize, len(y_dev_np))]\n",
    "    \n",
    "    # Para cada partición, entrenamos y evaluamos\n",
    "    i = 1\n",
    "    for train_index, test_index in kf.split(temp_X_dev_np,temp_y_dev_np):\n",
    "        X_train, X_test = X_dev_np[train_index], X_dev_np[test_index]\n",
    "        y_train, y_test = y_dev_np[train_index], y_dev_np[test_index]\n",
    "        # Entrenamos:\n",
    "        clf = clf.fit(X_train, y_train)\n",
    "        # Predecimos: A) sobre el training, B) sobre el evaluado\n",
    "        y_train_predict = clf.predict(X_train)\n",
    "        y_test_predict = clf.predict(X_test)\n",
    "        # Evaluamos accuracy\n",
    "        acc_train = accuracy_score(y_train, y_train_predict)\n",
    "        acc_test = accuracy_score(y_test, y_test_predict)\n",
    "        # Predecimos con probabilidad y luego calculamos ROC AUC\n",
    "        # Por cada valor de Y se devuelve la probabilidad de ser 0 y la de ser 1, nos quedamos con la de ser 1\n",
    "        if ResultProba:\n",
    "            y_train_predict_proba = clf.predict_proba(X_train)[:,1]\n",
    "            y_test_predict_proba = clf.predict_proba(X_test)[:,1]\n",
    "        else:\n",
    "            y_train_predict_proba = clf.predict(X_train)\n",
    "            y_test_predict_proba = clf.predict(X_test)\n",
    "        # Evaluamos ROC AUC\n",
    "        roc_train = roc_auc_score(y_train, y_train_predict_proba)\n",
    "        roc_test = roc_auc_score(y_test, y_test_predict_proba)\n",
    "        # Agregamos los resultados a los arrays correspondientes\n",
    "        accuracies_training.append(acc_train)\n",
    "        accuracies_validation.append(acc_test)\n",
    "        aucs_training.append(roc_train)\n",
    "        aucs_validation.append(roc_test)\n",
    "        # Mostramos los resultados\n",
    "        #print(\"FOLD: {}\".format(i))\n",
    "        #print(\"ACC. TRAIN: {}\".format(acc_train))\n",
    "        #print(\"ACC. TEST: {}\".format(acc_test))\n",
    "        #print(\"ROC TRAIN: {}\".format(roc_train))\n",
    "        #print(\"ROC TEST: {}\".format(roc_test))\n",
    "        i = i+1\n",
    "    return accuracies_training, accuracies_validation, aucs_training, aucs_validation\n",
    "    \n",
    "# INPUT: altura máxima del árbol (o None si es infinito), criterio de selección (gini o entropy)\n",
    "# OUTPUT: 4 arrays, donde cada posición corresponde a los valores de un fold. \n",
    "# Los 4 arrays son: accuracy_train, accuracy_test, roc_score_train, roc_score_test\n",
    "def BuildAndEvaluateTree(max_depth, criterion, MaxDevSize=None):\n",
    "    return TrainAndEvaluate(tree.DecisionTreeClassifier(max_depth=max_depth, criterion=criterion), MaxDevSize=MaxDevSize)\n",
    "\n",
    "accuracies_training, accuracies_validation, aucs_training, aucs_validation = BuildAndEvaluateTree(3, \"gini\")\n",
    "\n",
    "df = pd.DataFrame(index=range(1,6))\n",
    "df.index.name = \"Permutación\"\n",
    "df[\"Accuracy (training)\"] = accuracies_training\n",
    "df[\"Accuracy (validación)\"] = accuracies_validation\n",
    "df[\"AUC ROC (training)\"] = aucs_training\n",
    "df[\"AUC ROC (validación)\"] = aucs_validation\n",
    "\n",
    "display(HTML(\"<h3> TABLA 1 </h3>\"))\n",
    "display(df)\n",
    "\n",
    "# Graficar el resultado\n",
    "df.plot(kind=\"bar\")\n",
    "plt.legend(loc='upper left', bbox_to_anchor=(1.0, 1.0))\n",
    "plt.show()"
   ]
  },
  {
   "cell_type": "code",
   "execution_count": 5,
   "metadata": {},
   "outputs": [
    {
     "data": {
      "text/html": [
       "<h3> TABLA 2 </h3>"
      ],
      "text/plain": [
       "<IPython.core.display.HTML object>"
      ]
     },
     "metadata": {},
     "output_type": "display_data"
    },
    {
     "data": {
      "text/html": [
       "<div>\n",
       "<style scoped>\n",
       "    .dataframe tbody tr th:only-of-type {\n",
       "        vertical-align: middle;\n",
       "    }\n",
       "\n",
       "    .dataframe tbody tr th {\n",
       "        vertical-align: top;\n",
       "    }\n",
       "\n",
       "    .dataframe thead th {\n",
       "        text-align: right;\n",
       "    }\n",
       "</style>\n",
       "<table border=\"1\" class=\"dataframe\">\n",
       "  <thead>\n",
       "    <tr style=\"text-align: right;\">\n",
       "      <th></th>\n",
       "      <th>Altura máxima</th>\n",
       "      <th>Criterio de evaluación de corte</th>\n",
       "      <th>AUC ROC promedio (training)</th>\n",
       "      <th>AUC ROC promedio (validación)</th>\n",
       "    </tr>\n",
       "  </thead>\n",
       "  <tbody>\n",
       "    <tr>\n",
       "      <th>0</th>\n",
       "      <td>3</td>\n",
       "      <td>Gini</td>\n",
       "      <td>0.8744</td>\n",
       "      <td>0.7169</td>\n",
       "    </tr>\n",
       "    <tr>\n",
       "      <th>1</th>\n",
       "      <td>5</td>\n",
       "      <td>Gini</td>\n",
       "      <td>0.9754</td>\n",
       "      <td>0.6530</td>\n",
       "    </tr>\n",
       "    <tr>\n",
       "      <th>2</th>\n",
       "      <td>Inifinito</td>\n",
       "      <td>Gini</td>\n",
       "      <td>1.0000</td>\n",
       "      <td>0.6287</td>\n",
       "    </tr>\n",
       "    <tr>\n",
       "      <th>3</th>\n",
       "      <td>3</td>\n",
       "      <td>Ganancia de Información</td>\n",
       "      <td>0.8772</td>\n",
       "      <td>0.7153</td>\n",
       "    </tr>\n",
       "    <tr>\n",
       "      <th>4</th>\n",
       "      <td>5</td>\n",
       "      <td>Ganancia de Información</td>\n",
       "      <td>0.9823</td>\n",
       "      <td>0.6927</td>\n",
       "    </tr>\n",
       "    <tr>\n",
       "      <th>5</th>\n",
       "      <td>Inifinito</td>\n",
       "      <td>Ganancia de Información</td>\n",
       "      <td>1.0000</td>\n",
       "      <td>0.7081</td>\n",
       "    </tr>\n",
       "  </tbody>\n",
       "</table>\n",
       "</div>"
      ],
      "text/plain": [
       "  Altura máxima Criterio de evaluación de corte  AUC ROC promedio (training)  \\\n",
       "0             3                            Gini                       0.8744   \n",
       "1             5                            Gini                       0.9754   \n",
       "2     Inifinito                            Gini                       1.0000   \n",
       "3             3         Ganancia de Información                       0.8772   \n",
       "4             5         Ganancia de Información                       0.9823   \n",
       "5     Inifinito         Ganancia de Información                       1.0000   \n",
       "\n",
       "   AUC ROC promedio (validación)  \n",
       "0                         0.7169  \n",
       "1                         0.6530  \n",
       "2                         0.6287  \n",
       "3                         0.7153  \n",
       "4                         0.6927  \n",
       "5                         0.7081  "
      ]
     },
     "metadata": {},
     "output_type": "display_data"
    }
   ],
   "source": [
    "resultados_training = []\n",
    "resultados_validation = []\n",
    "\n",
    "for criterio in [\"gini\", \"entropy\"]:\n",
    "    for altura in [3, 5, None]:\n",
    "        accuracies_training, accuracies_validation, aucs_training, aucs_validation = BuildAndEvaluateTree(altura, criterio)\n",
    "        promedio_roc_training = np.array(aucs_training).mean()\n",
    "        promedio_roc_test = np.array(aucs_validation).mean()\n",
    "        resultados_training.append(promedio_roc_training)\n",
    "        resultados_validation.append(promedio_roc_test)\n",
    "\n",
    "df = pd.DataFrame(index=range(0,6))\n",
    "df[\"Altura máxima\"] = [3, 5, \"Inifinito\"] * 2\n",
    "df[\"Criterio de evaluación de corte\"] = [\"Gini\"] * 3 + [\"Ganancia de Información\"] * 3\n",
    "df[\"AUC ROC promedio (training)\"] = resultados_training\n",
    "df[\"AUC ROC promedio (validación)\"] = resultados_validation\n",
    "\n",
    "display(HTML(\"<h3> TABLA 2 </h3>\"))\n",
    "display(df)"
   ]
  },
  {
   "cell_type": "markdown",
   "metadata": {},
   "source": [
    "## Ejercicio 3: Comparación de algoritmos\n",
    "\n",
    "\n",
    "Se pide explorar distintas combinaciones de algoritmos de aprendizaje e hiperparámetros, de manera de buscar una performance óptima. Para este ejercicio es necesario que evalúen posibilidades utilizando la técnica de Grid Search. Como métrica de performance, usar siempre el área bajo la curva (AUC ROC) resultante de 5-fold cross-validation. \n",
    "\n",
    "Algoritmos a probar: KNN, árboles de decisión, LDA, Naive Bayes y SVM. Hiperparámetros: Revisar la documentación de cada uno para la búsqueda de combinaciones prometedoras.  \n",
    "\n",
    "Se pide generar un reporte que contenga: \n",
    "\n",
    "1. Una descripción de las distintas combinaciones consideradas y su performance asociada (las que consideren relevantes, con al menos la mejor combinación para cada algoritmo). \n",
    "\n",
    "1. Una breve explicación de los factores que creen que produjeron dicho resultado. \n",
    "\n",
    "En este punto evaluaremos tanto los hiperparámetros elegidos como las conclusiones relacionadas a por qué piensan que ciertos algoritmos funcionan mejor que otros para estos datos. \n",
    "\n",
    "\n",
    "\n",
    "----\n",
    "\n",
    "**EJERCICIO EXTRA**: Utilizar RandomizedSearchCV con rangos de parámetros que contengan a los utilizados en el GridSearch. Analizar si se encontraron mejores combinaciones de parámetros que no hayan sido tenidas en cuenta con el GridSearch y cuál fue la diferencia de tiempo de ejecución. \n",
    "\n",
    "----"
   ]
  },
  {
   "cell_type": "code",
   "execution_count": 6,
   "metadata": {},
   "outputs": [
    {
     "name": "stdout",
     "output_type": "stream",
     "text": [
      "KNN\n",
      "Los mejores parámetros son: {'n_neighbors': 50, 'weights': 'uniform'}\n",
      "Top 5 combinaciones\n"
     ]
    },
    {
     "name": "stderr",
     "output_type": "stream",
     "text": [
      "/usr/lib/python3.7/site-packages/sklearn/model_selection/_search.py:841: DeprecationWarning: The default of the `iid` parameter will change from True to False in version 0.22 and will be removed in 0.24. This will change numeric results when test-set sizes are unequal.\n",
      "  DeprecationWarning)\n"
     ]
    },
    {
     "data": {
      "text/html": [
       "<div>\n",
       "<style scoped>\n",
       "    .dataframe tbody tr th:only-of-type {\n",
       "        vertical-align: middle;\n",
       "    }\n",
       "\n",
       "    .dataframe tbody tr th {\n",
       "        vertical-align: top;\n",
       "    }\n",
       "\n",
       "    .dataframe thead th {\n",
       "        text-align: right;\n",
       "    }\n",
       "</style>\n",
       "<table border=\"1\" class=\"dataframe\">\n",
       "  <thead>\n",
       "    <tr style=\"text-align: right;\">\n",
       "      <th></th>\n",
       "      <th>n_neighbors</th>\n",
       "      <th>weights</th>\n",
       "      <th>mean_score_training</th>\n",
       "      <th>mean_score_validation</th>\n",
       "    </tr>\n",
       "  </thead>\n",
       "  <tbody>\n",
       "    <tr>\n",
       "      <th>8</th>\n",
       "      <td>50</td>\n",
       "      <td>uniform</td>\n",
       "      <td>0.7784</td>\n",
       "      <td>0.7667</td>\n",
       "    </tr>\n",
       "    <tr>\n",
       "      <th>6</th>\n",
       "      <td>20</td>\n",
       "      <td>uniform</td>\n",
       "      <td>0.7867</td>\n",
       "      <td>0.7622</td>\n",
       "    </tr>\n",
       "    <tr>\n",
       "      <th>9</th>\n",
       "      <td>50</td>\n",
       "      <td>distance</td>\n",
       "      <td>1.0000</td>\n",
       "      <td>0.7600</td>\n",
       "    </tr>\n",
       "    <tr>\n",
       "      <th>7</th>\n",
       "      <td>20</td>\n",
       "      <td>distance</td>\n",
       "      <td>1.0000</td>\n",
       "      <td>0.7489</td>\n",
       "    </tr>\n",
       "    <tr>\n",
       "      <th>5</th>\n",
       "      <td>10</td>\n",
       "      <td>distance</td>\n",
       "      <td>1.0000</td>\n",
       "      <td>0.7378</td>\n",
       "    </tr>\n",
       "  </tbody>\n",
       "</table>\n",
       "</div>"
      ],
      "text/plain": [
       "   n_neighbors   weights  mean_score_training  mean_score_validation\n",
       "8           50   uniform               0.7784                 0.7667\n",
       "6           20   uniform               0.7867                 0.7622\n",
       "9           50  distance               1.0000                 0.7600\n",
       "7           20  distance               1.0000                 0.7489\n",
       "5           10  distance               1.0000                 0.7378"
      ]
     },
     "metadata": {},
     "output_type": "display_data"
    },
    {
     "name": "stdout",
     "output_type": "stream",
     "text": [
      "Decision Tree\n",
      "Los mejores parámetros son: {'criterion': 'gini', 'max_depth': 3}\n",
      "Top 5 combinaciones\n"
     ]
    },
    {
     "name": "stderr",
     "output_type": "stream",
     "text": [
      "/usr/lib/python3.7/site-packages/sklearn/model_selection/_search.py:841: DeprecationWarning: The default of the `iid` parameter will change from True to False in version 0.22 and will be removed in 0.24. This will change numeric results when test-set sizes are unequal.\n",
      "  DeprecationWarning)\n"
     ]
    },
    {
     "data": {
      "text/html": [
       "<div>\n",
       "<style scoped>\n",
       "    .dataframe tbody tr th:only-of-type {\n",
       "        vertical-align: middle;\n",
       "    }\n",
       "\n",
       "    .dataframe tbody tr th {\n",
       "        vertical-align: top;\n",
       "    }\n",
       "\n",
       "    .dataframe thead th {\n",
       "        text-align: right;\n",
       "    }\n",
       "</style>\n",
       "<table border=\"1\" class=\"dataframe\">\n",
       "  <thead>\n",
       "    <tr style=\"text-align: right;\">\n",
       "      <th></th>\n",
       "      <th>criterion</th>\n",
       "      <th>max_depth</th>\n",
       "      <th>mean_score_training</th>\n",
       "      <th>mean_score_validation</th>\n",
       "    </tr>\n",
       "  </thead>\n",
       "  <tbody>\n",
       "    <tr>\n",
       "      <th>1</th>\n",
       "      <td>gini</td>\n",
       "      <td>3.0</td>\n",
       "      <td>0.8267</td>\n",
       "      <td>0.6644</td>\n",
       "    </tr>\n",
       "    <tr>\n",
       "      <th>4</th>\n",
       "      <td>entropy</td>\n",
       "      <td>3.0</td>\n",
       "      <td>0.8073</td>\n",
       "      <td>0.6622</td>\n",
       "    </tr>\n",
       "    <tr>\n",
       "      <th>0</th>\n",
       "      <td>gini</td>\n",
       "      <td>NaN</td>\n",
       "      <td>1.0000</td>\n",
       "      <td>0.6533</td>\n",
       "    </tr>\n",
       "    <tr>\n",
       "      <th>5</th>\n",
       "      <td>entropy</td>\n",
       "      <td>5.0</td>\n",
       "      <td>0.9139</td>\n",
       "      <td>0.6511</td>\n",
       "    </tr>\n",
       "    <tr>\n",
       "      <th>2</th>\n",
       "      <td>gini</td>\n",
       "      <td>5.0</td>\n",
       "      <td>0.9439</td>\n",
       "      <td>0.6489</td>\n",
       "    </tr>\n",
       "  </tbody>\n",
       "</table>\n",
       "</div>"
      ],
      "text/plain": [
       "  criterion  max_depth  mean_score_training  mean_score_validation\n",
       "1      gini        3.0               0.8267                 0.6644\n",
       "4   entropy        3.0               0.8073                 0.6622\n",
       "0      gini        NaN               1.0000                 0.6533\n",
       "5   entropy        5.0               0.9139                 0.6511\n",
       "2      gini        5.0               0.9439                 0.6489"
      ]
     },
     "metadata": {},
     "output_type": "display_data"
    },
    {
     "name": "stdout",
     "output_type": "stream",
     "text": [
      "LDA\n",
      "Los mejores parámetros son: {}\n",
      "Top 5 combinaciones\n"
     ]
    },
    {
     "name": "stderr",
     "output_type": "stream",
     "text": [
      "/usr/lib/python3.7/site-packages/sklearn/model_selection/_search.py:841: DeprecationWarning: The default of the `iid` parameter will change from True to False in version 0.22 and will be removed in 0.24. This will change numeric results when test-set sizes are unequal.\n",
      "  DeprecationWarning)\n"
     ]
    },
    {
     "data": {
      "text/html": [
       "<div>\n",
       "<style scoped>\n",
       "    .dataframe tbody tr th:only-of-type {\n",
       "        vertical-align: middle;\n",
       "    }\n",
       "\n",
       "    .dataframe tbody tr th {\n",
       "        vertical-align: top;\n",
       "    }\n",
       "\n",
       "    .dataframe thead th {\n",
       "        text-align: right;\n",
       "    }\n",
       "</style>\n",
       "<table border=\"1\" class=\"dataframe\">\n",
       "  <thead>\n",
       "    <tr style=\"text-align: right;\">\n",
       "      <th></th>\n",
       "      <th>mean_score_training</th>\n",
       "      <th>mean_score_validation</th>\n",
       "    </tr>\n",
       "  </thead>\n",
       "  <tbody>\n",
       "    <tr>\n",
       "      <th>0</th>\n",
       "      <td>0.965</td>\n",
       "      <td>0.6711</td>\n",
       "    </tr>\n",
       "  </tbody>\n",
       "</table>\n",
       "</div>"
      ],
      "text/plain": [
       "   mean_score_training  mean_score_validation\n",
       "0                0.965                 0.6711"
      ]
     },
     "metadata": {},
     "output_type": "display_data"
    },
    {
     "name": "stdout",
     "output_type": "stream",
     "text": [
      "Naive Bayes\n",
      "Los mejores parámetros son: {}\n",
      "Top 5 combinaciones\n"
     ]
    },
    {
     "name": "stderr",
     "output_type": "stream",
     "text": [
      "/usr/lib/python3.7/site-packages/sklearn/model_selection/_search.py:841: DeprecationWarning: The default of the `iid` parameter will change from True to False in version 0.22 and will be removed in 0.24. This will change numeric results when test-set sizes are unequal.\n",
      "  DeprecationWarning)\n"
     ]
    },
    {
     "data": {
      "text/html": [
       "<div>\n",
       "<style scoped>\n",
       "    .dataframe tbody tr th:only-of-type {\n",
       "        vertical-align: middle;\n",
       "    }\n",
       "\n",
       "    .dataframe tbody tr th {\n",
       "        vertical-align: top;\n",
       "    }\n",
       "\n",
       "    .dataframe thead th {\n",
       "        text-align: right;\n",
       "    }\n",
       "</style>\n",
       "<table border=\"1\" class=\"dataframe\">\n",
       "  <thead>\n",
       "    <tr style=\"text-align: right;\">\n",
       "      <th></th>\n",
       "      <th>mean_score_training</th>\n",
       "      <th>mean_score_validation</th>\n",
       "    </tr>\n",
       "  </thead>\n",
       "  <tbody>\n",
       "    <tr>\n",
       "      <th>0</th>\n",
       "      <td>0.7722</td>\n",
       "      <td>0.7289</td>\n",
       "    </tr>\n",
       "  </tbody>\n",
       "</table>\n",
       "</div>"
      ],
      "text/plain": [
       "   mean_score_training  mean_score_validation\n",
       "0               0.7722                 0.7289"
      ]
     },
     "metadata": {},
     "output_type": "display_data"
    },
    {
     "name": "stdout",
     "output_type": "stream",
     "text": [
      "SVM\n",
      "Los mejores parámetros son: {'C': 5, 'kernel': 'rbf'}\n",
      "Top 5 combinaciones\n"
     ]
    },
    {
     "name": "stderr",
     "output_type": "stream",
     "text": [
      "/usr/lib/python3.7/site-packages/sklearn/model_selection/_search.py:841: DeprecationWarning: The default of the `iid` parameter will change from True to False in version 0.22 and will be removed in 0.24. This will change numeric results when test-set sizes are unequal.\n",
      "  DeprecationWarning)\n"
     ]
    },
    {
     "data": {
      "text/html": [
       "<div>\n",
       "<style scoped>\n",
       "    .dataframe tbody tr th:only-of-type {\n",
       "        vertical-align: middle;\n",
       "    }\n",
       "\n",
       "    .dataframe tbody tr th {\n",
       "        vertical-align: top;\n",
       "    }\n",
       "\n",
       "    .dataframe thead th {\n",
       "        text-align: right;\n",
       "    }\n",
       "</style>\n",
       "<table border=\"1\" class=\"dataframe\">\n",
       "  <thead>\n",
       "    <tr style=\"text-align: right;\">\n",
       "      <th></th>\n",
       "      <th>C</th>\n",
       "      <th>kernel</th>\n",
       "      <th>mean_score_training</th>\n",
       "      <th>mean_score_validation</th>\n",
       "    </tr>\n",
       "  </thead>\n",
       "  <tbody>\n",
       "    <tr>\n",
       "      <th>4</th>\n",
       "      <td>5</td>\n",
       "      <td>rbf</td>\n",
       "      <td>1.0000</td>\n",
       "      <td>0.7756</td>\n",
       "    </tr>\n",
       "    <tr>\n",
       "      <th>7</th>\n",
       "      <td>10</td>\n",
       "      <td>rbf</td>\n",
       "      <td>1.0000</td>\n",
       "      <td>0.7756</td>\n",
       "    </tr>\n",
       "    <tr>\n",
       "      <th>1</th>\n",
       "      <td>1</td>\n",
       "      <td>rbf</td>\n",
       "      <td>0.9878</td>\n",
       "      <td>0.7644</td>\n",
       "    </tr>\n",
       "    <tr>\n",
       "      <th>2</th>\n",
       "      <td>1</td>\n",
       "      <td>sigmoid</td>\n",
       "      <td>0.8584</td>\n",
       "      <td>0.7644</td>\n",
       "    </tr>\n",
       "    <tr>\n",
       "      <th>5</th>\n",
       "      <td>5</td>\n",
       "      <td>sigmoid</td>\n",
       "      <td>0.8317</td>\n",
       "      <td>0.7600</td>\n",
       "    </tr>\n",
       "  </tbody>\n",
       "</table>\n",
       "</div>"
      ],
      "text/plain": [
       "    C   kernel  mean_score_training  mean_score_validation\n",
       "4   5      rbf               1.0000                 0.7756\n",
       "7  10      rbf               1.0000                 0.7756\n",
       "1   1      rbf               0.9878                 0.7644\n",
       "2   1  sigmoid               0.8584                 0.7644\n",
       "5   5  sigmoid               0.8317                 0.7600"
      ]
     },
     "metadata": {},
     "output_type": "display_data"
    }
   ],
   "source": [
    "from sklearn.neighbors import KNeighborsClassifier\n",
    "from sklearn.discriminant_analysis import LinearDiscriminantAnalysis\n",
    "from sklearn.tree import DecisionTreeClassifier\n",
    "from sklearn.naive_bayes import GaussianNB\n",
    "from sklearn.svm import LinearSVC\n",
    "from sklearn import svm\n",
    "from sklearn.model_selection import GridSearchCV\n",
    "\n",
    "# Función de impresión\n",
    "def top_resultados(grid, top=5):\n",
    "    print(\"Top {} combinaciones\".format(top))\n",
    "    df = pd.DataFrame(grid.cv_results_[\"params\"])\n",
    "    df[\"mean_score_training\"] = grid.cv_results_[\"mean_train_score\"]\n",
    "    df[\"mean_score_validation\"] = grid.cv_results_[\"mean_test_score\"]\n",
    "    display(df.sort_values(by=\"mean_score_validation\", ascending=False).head(top))\n",
    "\n",
    "def evaluar_clasificador(nombre, clasificador, params, sampleador=GridSearchCV):\n",
    "    grd_clasificador = sampleador(clasificador, params, cv=5)\n",
    "    grd_clasificador.fit(X_dev_np, y_dev_np)\n",
    "    print(nombre)\n",
    "    print(\"Los mejores parámetros son: {}\".format(grd_clasificador.best_params_))\n",
    "    top_resultados(grd_clasificador)\n",
    "\n",
    "# VAMOS ALGORITMO POR ALGORITMO:\n",
    "\n",
    "#KNN\n",
    "# Parámetros: \n",
    "# 1) Cantidad de vecinos (n_neighbors = int)\n",
    "# 2) Peso: uniforme/según distancia (weights = uniform/distance)\n",
    "# 3) algoritmo (auto, ball_tree,  kd_tree, brute) (TODO: ver que es cada uno)\n",
    "parameters = {'weights':('uniform', 'distance'), 'n_neighbors':[1, 5, 10, 20, 50]}\n",
    "clf_knn = KNeighborsClassifier()\n",
    "evaluar_clasificador(\"KNN\", clf_knn, parameters)\n",
    "\n",
    "#DecisionTree\n",
    "# Parámetros\n",
    "# 1) Altura máxima\n",
    "# 2) Criterio de selección de nodos (gini o entropy)\n",
    "parameters = {'criterion':('gini', 'entropy'), 'max_depth':[None, 3, 5]}\n",
    "clf_dec_tree = DecisionTreeClassifier()\n",
    "evaluar_clasificador(\"Decision Tree\", clf_dec_tree, parameters)\n",
    "\n",
    "#LDA\n",
    "# No conozco los parámetros... (TODO: ver que onda)\n",
    "parameters = { }\n",
    "clf_lda = LinearDiscriminantAnalysis()\n",
    "evaluar_clasificador(\"LDA\", clf_lda, parameters)\n",
    "\n",
    "#Naive Bayes\n",
    "# No conozco los parámetros... (TODO: ver que onda)\n",
    "parameters = { }\n",
    "clf_gaussian_nb = GaussianNB()\n",
    "evaluar_clasificador(\"Naive Bayes\", clf_gaussian_nb, parameters)\n",
    "\n",
    "#SVM\n",
    "# Parámetros\n",
    "# 1) Kernel (linear, polynomial, rbf (radial), sigmoid) (algunos de estos kernel llevan parámetros especiales que asumo default)\n",
    "# 2) C (si es chico puede ajustar mejor pero puede cometer más errores de clasificación)\n",
    "parameters = {'kernel':('linear', 'rbf', 'sigmoid'), 'C':[1, 5, 10]}\n",
    "clf_svm = svm.SVC()\n",
    "evaluar_clasificador(\"SVM\", clf_svm, parameters)"
   ]
  },
  {
   "cell_type": "markdown",
   "metadata": {},
   "source": [
    "#### Conclusiones Grid Search\n",
    "\n",
    "TODO"
   ]
  },
  {
   "cell_type": "markdown",
   "metadata": {},
   "source": [
    "## Ejercicio 4: \n",
    "### Diagnóstico Sesgo-Varianza. \n",
    "\n",
    "En este punto, se pide inspeccionar dos de sus mejores modelos encontrados hasta ahora: el mejor modelo de tipo árbol de decisión y el mejor de tipo SVM. Para ello:\n",
    "\n",
    "1. Graficar curvas de complejidad para cada modelo, variando la profundidad en el caso de árboles, y el hiperparámetro C en el caso de SVM. Diagnosticar cómo afectan al sesgo y a la varianza esos dos hiperparámetros.\n",
    "2. Graficar curvas de aprendizaje para cada modelo. En base a estas curvas, sacar conclusiones sobre si los algoritmos parecen haber alcanzado su límite, o bien si aumentar la cantidad de datos debería ayudar.\n",
    "3. Construir un modelo RandomForest con 200 árboles. Explorar para qué sirve el hiperparámetro max_features y cómo afecta a la performance del algoritmo mediante una curva de complejidad. Explicar por qué creen que se dieron los resultados obtenidos. Por último, graficar una curva de aprendizaje sobre los parámetros elegidos para determinar si sería útil o no conseguir más datos (usar  grid search para encontrar una buena combinación de parámetros).  \n",
    "\n",
    "\n",
    "**Atención**: Tener en cuenta que debemos seguir utilizando ROC AUC como métrica para estas curvas.\n",
    "\n",
    "**ver**: http://scikit-learn.org/stable/modules/learning_curve.html#learning-curve\n",
    "\n",
    "----\n",
    "**EJERCICIO EXTRA:** Utilizar RandomizedSearchCV para explorar la performance del algoritmo de Gradient Boosting y comparar con los resultados obtenidos en el punto (c).\n",
    "\n",
    "\n",
    "----\n",
    "\n",
    "\n"
   ]
  },
  {
   "cell_type": "code",
   "execution_count": 7,
   "metadata": {},
   "outputs": [
    {
     "data": {
      "text/plain": [
       "[<matplotlib.lines.Line2D at 0x7fd64a9b82e8>]"
      ]
     },
     "execution_count": 7,
     "metadata": {},
     "output_type": "execute_result"
    },
    {
     "data": {
      "image/png": "[encoded data removed]",
      "text/plain": [
       "<Figure size 720x108 with 1 Axes>"
      ]
     },
     "metadata": {
      "needs_background": "light"
     },
     "output_type": "display_data"
    },
    {
     "data": {
      "image/png": "[encoded data removed]",
      "text/plain": [
       "<Figure size 720x108 with 1 Axes>"
      ]
     },
     "metadata": {
      "needs_background": "light"
     },
     "output_type": "display_data"
    }
   ],
   "source": [
    "# Curvas de complejidad\n",
    "# Decision Tree\n",
    "resultados_training_tree = []\n",
    "resultados_validation_tree = []\n",
    "\n",
    "alturas_max = [1, 2, 3, 4, 5, 10, 50, 100]\n",
    "for altura in alturas_max:\n",
    "    accuracies_training, accuracies_validation, aucs_training, aucs_validation = BuildAndEvaluateTree(altura, \"gini\")\n",
    "    promedio_roc_training = np.array(aucs_training).mean()\n",
    "    promedio_roc_test = np.array(aucs_validation).mean()\n",
    "    resultados_training_tree.append(promedio_roc_training)\n",
    "    resultados_validation_tree.append(promedio_roc_test)\n",
    "\n",
    "plt.figure(figsize=(10, 1.5))\n",
    "plt.plot(alturas_max, resultados_training_tree, \".-\", color=\"red\")\n",
    "plt.plot(alturas_max, resultados_validation_tree, \".-\", color=\"blue\")\n",
    "\n",
    "#SVM \n",
    "# Utiliza la función del ejercicio 1 TrainAndEvaluate\n",
    "def BuildAndEvaluateSVM(C, kernel, MaxDevSize=None):\n",
    "    return TrainAndEvaluate(svm.SVC(C=C, kernel=kernel), ResultProba = False, MaxDevSize = MaxDevSize)\n",
    "\n",
    "resultados_training_svm = []\n",
    "resultados_validation_svm = []\n",
    "\n",
    "params_C = [0.5, 1, 2, 4, 6, 8, 10]\n",
    "for C in params_C:\n",
    "    accuracies_training, accuracies_validation, aucs_training, aucs_validation = BuildAndEvaluateSVM(C, \"rbf\")\n",
    "    promedio_roc_training = np.array(aucs_training).mean()\n",
    "    promedio_roc_test = np.array(aucs_validation).mean()\n",
    "    resultados_training_svm.append(promedio_roc_training)\n",
    "    resultados_validation_svm.append(promedio_roc_test)\n",
    "\n",
    "plt.figure(figsize=(10, 1.5))\n",
    "plt.plot(params_C, resultados_training_svm, \".-\", color=\"red\")\n",
    "plt.plot(params_C, resultados_validation_svm, \".-\", color=\"blue\")"
   ]
  },
  {
   "cell_type": "code",
   "execution_count": 8,
   "metadata": {},
   "outputs": [
    {
     "data": {
      "text/plain": [
       "[<matplotlib.lines.Line2D at 0x7fd64a9617f0>]"
      ]
     },
     "execution_count": 8,
     "metadata": {},
     "output_type": "execute_result"
    },
    {
     "data": {
      "image/png": "[encoded data removed]",
      "text/plain": [
       "<Figure size 720x108 with 1 Axes>"
      ]
     },
     "metadata": {
      "needs_background": "light"
     },
     "output_type": "display_data"
    },
    {
     "data": {
      "image/png": "[encoded data removed]",
      "text/plain": [
       "<Figure size 720x108 with 1 Axes>"
      ]
     },
     "metadata": {
      "needs_background": "light"
     },
     "output_type": "display_data"
    }
   ],
   "source": [
    "#Curvas de aprendizaje\n",
    "# Decision Tree\n",
    "resultados_training_tree = []\n",
    "resultados_validation_tree = []\n",
    "\n",
    "max_dev_sizes = [50, 100, 200, 300, 450]\n",
    "for max_size in max_dev_sizes:\n",
    "    accuracies_training, accuracies_validation, aucs_training, aucs_validation = BuildAndEvaluateTree(3, \"gini\", MaxDevSize=max_size)\n",
    "    promedio_roc_training = np.array(aucs_training).mean()\n",
    "    promedio_roc_test = np.array(aucs_validation).mean()\n",
    "    resultados_training_tree.append(promedio_roc_training)\n",
    "    resultados_validation_tree.append(promedio_roc_test)\n",
    "\n",
    "plt.figure(figsize=(10, 1.5))\n",
    "plt.plot(max_dev_sizes, resultados_training_tree, \".-\", color=\"red\")\n",
    "plt.plot(max_dev_sizes, resultados_validation_tree, \".-\", color=\"blue\")\n",
    "\n",
    "#SVM \n",
    "resultados_training_svm = []\n",
    "resultados_validation_svm = []\n",
    "\n",
    "max_dev_sizes = [50, 100, 200, 300, 450]\n",
    "for max_size in max_dev_sizes:\n",
    "    accuracies_training, accuracies_validation, aucs_training, aucs_validation = BuildAndEvaluateSVM(1, \"rbf\", MaxDevSize=max_size)\n",
    "    promedio_roc_training = np.array(aucs_training).mean()\n",
    "    promedio_roc_test = np.array(aucs_validation).mean()\n",
    "    resultados_training_svm.append(promedio_roc_training)\n",
    "    resultados_validation_svm.append(promedio_roc_test)\n",
    "\n",
    "plt.figure(figsize=(10, 1.5))\n",
    "plt.plot(max_dev_sizes, resultados_training_svm, \".-\", color=\"red\")\n",
    "plt.plot(max_dev_sizes, resultados_validation_svm, \".-\", color=\"blue\")"
   ]
  },
  {
   "cell_type": "code",
   "execution_count": 9,
   "metadata": {},
   "outputs": [
    {
     "data": {
      "text/plain": [
       "[<matplotlib.lines.Line2D at 0x7fd64a8cb518>]"
      ]
     },
     "execution_count": 9,
     "metadata": {},
     "output_type": "execute_result"
    },
    {
     "data": {
      "image/png": "[encoded data removed]",
      "text/plain": [
       "<Figure size 720x108 with 1 Axes>"
      ]
     },
     "metadata": {
      "needs_background": "light"
     },
     "output_type": "display_data"
    }
   ],
   "source": [
    "from sklearn.ensemble import RandomForestClassifier\n",
    "\n",
    "# RANDOM FOREST\n",
    "# Utiliza la función del ejercicio 1 TrainAndEvaluate. Clavo algunos parámetros de construcción que no vamos a variar\n",
    "def BuildAndEvaluateRandomForest(max_features, MaxDevSize=None):\n",
    "    return TrainAndEvaluate(RandomForestClassifier(n_estimators=200, criterion='gini', max_depth=None, max_features=max_features), MaxDevSize = MaxDevSize)\n",
    "\n",
    "# El hiperparámetro max_features determina la cantidad máxima de features a utilizar en cada nodo. Valores posibles:\n",
    "# If int, then consider max_features features at each split.\n",
    "# If float, then max_features is a fraction and int(max_features * n_features) features are considered at each split.\n",
    "# If “auto”, then max_features=sqrt(n_features).\n",
    "# If “sqrt”, then max_features=sqrt(n_features) (same as “auto”).\n",
    "# If “log2”, then max_features=log2(n_features).\n",
    "# If None, then max_features=n_features\n",
    "\n",
    "# CURVA DE COMPLEJIDAD\n",
    "# Para poder hacer mejor la curva de complejidad, utilizaré valores enteros, sabiendo que hay 200 atributos tenemos que:\n",
    "# 8 = LOG_2(200)\n",
    "# 14 = SQRT(200)\n",
    "# 100 = N/2\n",
    "# 200 = N\n",
    "\n",
    "resultados_training_mf_rf = []\n",
    "resultados_validation_mf_rf = []\n",
    "\n",
    "max_features = [8, 14, 100, 200]\n",
    "for mf in max_features:\n",
    "    accuracies_training, accuracies_validation, aucs_training, aucs_validation = BuildAndEvaluateRandomForest(mf)\n",
    "    promedio_roc_training = np.array(aucs_training).mean()\n",
    "    promedio_roc_test = np.array(aucs_validation).mean()\n",
    "    resultados_training_mf_rf.append(promedio_roc_training)\n",
    "    resultados_validation_mf_rf.append(promedio_roc_test)\n",
    "\n",
    "plt.figure(figsize=(10, 1.5))\n",
    "plt.plot(max_features, resultados_training_mf_rf, \".-\", color=\"red\")\n",
    "plt.plot(max_features, resultados_validation_mf_rf, \".-\", color=\"blue\")\n"
   ]
  },
  {
   "cell_type": "code",
   "execution_count": 10,
   "metadata": {
    "scrolled": true
   },
   "outputs": [
    {
     "data": {
      "text/plain": [
       "[<matplotlib.lines.Line2D at 0x7fd64a9d3cf8>]"
      ]
     },
     "execution_count": 10,
     "metadata": {},
     "output_type": "execute_result"
    },
    {
     "data": {
      "image/png": "[encoded data removed]",
      "text/plain": [
       "<Figure size 720x108 with 1 Axes>"
      ]
     },
     "metadata": {
      "needs_background": "light"
     },
     "output_type": "display_data"
    }
   ],
   "source": [
    "# CURVA DE APRENDIZAJE. Tomamos hiperparámetro fijo max_features = SQRT(n) = SQRT(200) = 14\n",
    "\n",
    "resultados_training_rf = []\n",
    "resultados_validation_rf = []\n",
    "\n",
    "max_dev_sizes = [50, 100, 200, 300, 450]\n",
    "for max_size in max_dev_sizes:\n",
    "    accuracies_training, accuracies_validation, aucs_training, aucs_validation = BuildAndEvaluateRandomForest(14, MaxDevSize=max_size)\n",
    "    promedio_roc_training = np.array(aucs_training).mean()\n",
    "    promedio_roc_test = np.array(aucs_validation).mean()\n",
    "    resultados_training_rf.append(promedio_roc_training)\n",
    "    resultados_validation_rf.append(promedio_roc_test)\n",
    "\n",
    "plt.figure(figsize=(10, 1.5))\n",
    "plt.plot(max_dev_sizes, resultados_training_rf, \".-\", color=\"red\")\n",
    "plt.plot(max_dev_sizes, resultados_validation_rf, \".-\", color=\"blue\")"
   ]
  },
  {
   "cell_type": "code",
   "execution_count": 26,
   "metadata": {},
   "outputs": [
    {
     "name": "stderr",
     "output_type": "stream",
     "text": [
      "/usr/lib/python3.7/site-packages/sklearn/model_selection/_search.py:841: DeprecationWarning: The default of the `iid` parameter will change from True to False in version 0.22 and will be removed in 0.24. This will change numeric results when test-set sizes are unequal.\n",
      "  DeprecationWarning)\n"
     ]
    },
    {
     "name": "stdout",
     "output_type": "stream",
     "text": [
      "Gradient Boosting\n",
      "Los mejores parámetros son: {'n_estimators': 1000, 'min_samples_leaf': 50, 'max_depth': 7, 'loss': 'exponential', 'learning_rate': 0.5, 'criterion': 'friedman_mse'}\n",
      "Top 5 combinaciones\n"
     ]
    },
    {
     "data": {
      "text/html": [
       "<div>\n",
       "<style scoped>\n",
       "    .dataframe tbody tr th:only-of-type {\n",
       "        vertical-align: middle;\n",
       "    }\n",
       "\n",
       "    .dataframe tbody tr th {\n",
       "        vertical-align: top;\n",
       "    }\n",
       "\n",
       "    .dataframe thead th {\n",
       "        text-align: right;\n",
       "    }\n",
       "</style>\n",
       "<table border=\"1\" class=\"dataframe\">\n",
       "  <thead>\n",
       "    <tr style=\"text-align: right;\">\n",
       "      <th></th>\n",
       "      <th>criterion</th>\n",
       "      <th>learning_rate</th>\n",
       "      <th>loss</th>\n",
       "      <th>max_depth</th>\n",
       "      <th>min_samples_leaf</th>\n",
       "      <th>n_estimators</th>\n",
       "      <th>mean_score_training</th>\n",
       "      <th>mean_score_validation</th>\n",
       "    </tr>\n",
       "  </thead>\n",
       "  <tbody>\n",
       "    <tr>\n",
       "      <th>39</th>\n",
       "      <td>friedman_mse</td>\n",
       "      <td>0.5</td>\n",
       "      <td>exponential</td>\n",
       "      <td>7.0</td>\n",
       "      <td>50</td>\n",
       "      <td>1000</td>\n",
       "      <td>1.0</td>\n",
       "      <td>0.7756</td>\n",
       "    </tr>\n",
       "    <tr>\n",
       "      <th>41</th>\n",
       "      <td>mse</td>\n",
       "      <td>1.0</td>\n",
       "      <td>exponential</td>\n",
       "      <td>80.0</td>\n",
       "      <td>10</td>\n",
       "      <td>100</td>\n",
       "      <td>1.0</td>\n",
       "      <td>0.7689</td>\n",
       "    </tr>\n",
       "    <tr>\n",
       "      <th>22</th>\n",
       "      <td>mse</td>\n",
       "      <td>0.1</td>\n",
       "      <td>deviance</td>\n",
       "      <td>7.0</td>\n",
       "      <td>50</td>\n",
       "      <td>1000</td>\n",
       "      <td>1.0</td>\n",
       "      <td>0.7667</td>\n",
       "    </tr>\n",
       "    <tr>\n",
       "      <th>42</th>\n",
       "      <td>mse</td>\n",
       "      <td>0.1</td>\n",
       "      <td>exponential</td>\n",
       "      <td>40.0</td>\n",
       "      <td>10</td>\n",
       "      <td>1000</td>\n",
       "      <td>1.0</td>\n",
       "      <td>0.7667</td>\n",
       "    </tr>\n",
       "    <tr>\n",
       "      <th>16</th>\n",
       "      <td>mse</td>\n",
       "      <td>0.5</td>\n",
       "      <td>exponential</td>\n",
       "      <td>30.0</td>\n",
       "      <td>50</td>\n",
       "      <td>100</td>\n",
       "      <td>1.0</td>\n",
       "      <td>0.7644</td>\n",
       "    </tr>\n",
       "  </tbody>\n",
       "</table>\n",
       "</div>"
      ],
      "text/plain": [
       "       criterion  learning_rate         loss  max_depth  min_samples_leaf  \\\n",
       "39  friedman_mse            0.5  exponential        7.0                50   \n",
       "41           mse            1.0  exponential       80.0                10   \n",
       "22           mse            0.1     deviance        7.0                50   \n",
       "42           mse            0.1  exponential       40.0                10   \n",
       "16           mse            0.5  exponential       30.0                50   \n",
       "\n",
       "    n_estimators  mean_score_training  mean_score_validation  \n",
       "39          1000                  1.0                 0.7756  \n",
       "41           100                  1.0                 0.7689  \n",
       "22          1000                  1.0                 0.7667  \n",
       "42          1000                  1.0                 0.7667  \n",
       "16           100                  1.0                 0.7644  "
      ]
     },
     "metadata": {},
     "output_type": "display_data"
    }
   ],
   "source": [
    "\n",
    "\n",
    "params = {'loss': ['deviance', 'exponential'],\n",
    "         'n_estimators': [1, 10, 100, 1000],\n",
    "         'learning_rate': [0.01, 0.1, 0.5, 1],\n",
    "         'criterion': ['friedman_mse', 'mse'],\n",
    "         'max_depth': list(range(1,10)) + list(range(20, 100, 10)) + list(range(200, 1000, 100)) + [None],\n",
    "         #max_features, reduce varianza aumenta sesgo\n",
    "         'min_samples_leaf': [1, 5, 10, 50]\n",
    "         # El resto que lei me parecen redundantes con estos.\n",
    "         }\n",
    "\n",
    "clf_gb = sklearn.ensemble.GradientBoostingClassifier()\n",
    "\n",
    "# copy pasteo la funcion evaluar clasificador porque necesito tocar n_iter.\n",
    "rnd_clasificador = sklearn.model_selection.RandomizedSearchCV(clf_gb, params, cv=5, n_iter=50)\n",
    "rnd_clasificador.fit(X_dev_np, y_dev_np)\n",
    "print(\"Gradient Boosting\")\n",
    "print(\"Los mejores parámetros son: {}\".format(rnd_clasificador.best_params_))\n",
    "top_resultados(rnd_clasificador)\n",
    "\n",
    "# Mejor friedman_mse 0.5 exponential 7.0 50 1000 1.0 0.7756"
   ]
  },
  {
   "cell_type": "markdown",
   "metadata": {},
   "source": [
    "## Competencias\n",
    "\n",
    "La entrega del trabajo estará acompañada de una competencia en la cual deberán poner a prueba su mejor modelo y sobre todo, su capacidad para estimar sus resultados. \n",
    "\n",
    "Su tarea será estimar la performance (AUC ROC) que tendrá su mejor modelo en datos de evaluación (X_competencia). \n",
    "\n",
    "Para ello, deberán predecir las probabilidades de las distintas instancias con su modelo, enviarnos dichas probabilidades junto a una estimación con 4 decimales de cuál será el AUC ROC resultante y calcularemos el resultado real. El grupo que consiga acercarse más al valor real, será el grupo ganador.  \n",
    "\n",
    "Recomendamos no perder de vista esta competencia en el momento de separar los datos en los primeros puntos. \n",
    "\n",
    "Para esto, junto con la entrega del informe, deberán enviar un archivo en formato csv con las columnas “index” y “output” (ver ejemplo de archivo en: [y_competencia_ejemplo.csv](https://github.com/pbrusco/aa-notebooks/blob/master/TP1/y_competencia_ejemplo.csv)) y un valor esperado de AUC ROC. \n",
    "\n",
    "\n",
    "## Entrega\n",
    "- Contarán con un esqueleto en formato Jupyter Notebook en donde tendrán que completar las celdas faltantes (ya sea con explicaciones y gráficos o código). \n",
    "- El notebook final deberá ser entregado en formatos .html e .ipynb. Es necesario que los resultados puedan reproducirse al ejecutar todas las celdas en orden (Kernel - Restart and Run All) utilizando las bibliotecas requeridas en el archivo: requirements.txt del repositorio. \n",
    "- Tienen tiempo hasta las 23:59hs del día miércoles 17/10/2018. La entrega se debe realizar a través del campus virtual y debe contener el informe.\n",
    "- El trabajo deberá elaborarse en grupos de 3 personas.\n",
    "- Se podrán pedir pruebas de integridad y autoría; es decir, verificar que la salida solicitada es fruto del modelo presentado y que el modelo fue construido según lo requerido en este enunciado.\n",
    "- La evaluación será grupal y se basará en la calidad del informe (presentación, claridad, prolijidad); la originalidad, practicidad y coherencia técnica de la solución; la corrección y solidez de las pruebas realizadas.\n",
    "- En el primer parcial se incluirá una pregunta sobre la solución entregada. Esa pregunta no influirá en la nota del parcial, pero sí en la nota individual del TP1.\n",
    "- La participación en la competencia es obligatoria. De todas maneras, el resultado no incidirán en la nota de la materia.\n",
    "- Los ejercicios extra son opcionales para aprobar el TP, pero son obligatorios para promocionar la materia.\n"
   ]
  },
  {
   "cell_type": "code",
   "execution_count": null,
   "metadata": {},
   "outputs": [],
   "source": []
  }
 ],
 "metadata": {
  "kernelspec": {
   "display_name": "Python 3",
   "language": "python",
   "name": "python3"
  },
  "language_info": {
   "codemirror_mode": {
    "name": "ipython",
    "version": 3
   },
   "file_extension": ".py",
   "mimetype": "text/x-python",
   "name": "python",
   "nbconvert_exporter": "python",
   "pygments_lexer": "ipython3",
   "version": "3.7.0"
  }
 },
 "nbformat": 4,
 "nbformat_minor": 2
}
